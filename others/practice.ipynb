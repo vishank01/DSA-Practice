{
 "cells": [
  {
   "cell_type": "code",
   "execution_count": 60,
   "id": "cd0d1d71",
   "metadata": {},
   "outputs": [
    {
     "name": "stdout",
     "output_type": "stream",
     "text": [
      "Balanced\n"
     ]
    }
   ],
   "source": [
    "a=\"[()]{}{[()()]()}\"\n",
    "stack=[]\n",
    "for ch in a:\n",
    "    if ch in (\"(\",\"[\",\"{\"):\n",
    "        stack.append(ch)\n",
    "    elif ch==\")\" and stack and stack[-1]==\"(\":\n",
    "        stack.pop()\n",
    "    elif ch==\"]\" and stack and stack[-1]==\"[\":\n",
    "        stack.pop()\n",
    "    elif ch==\"}\" and stack and stack[-1]==\"{\":\n",
    "        stack.pop()\n",
    "if not stack:\n",
    "    print(\"Balanced\")\n",
    "else:\n",
    "    print(\"UnBalanced\")"
   ]
  },
  {
   "cell_type": "code",
   "execution_count": 61,
   "id": "dd4381de",
   "metadata": {},
   "outputs": [],
   "source": [
    "class Node:\n",
    "    def init(self,val):\n",
    "        self.data = val\n",
    "        self.left = None\n",
    "        self.right = None"
   ]
  },
  {
   "cell_type": "code",
   "execution_count": 62,
   "id": "16f3103a",
   "metadata": {},
   "outputs": [],
   "source": [
    "class Solution:\n",
    "    def InOrder(self,root,result=[]):\n",
    "        if root:\n",
    "            self.InOrder(root.left,result)\n",
    "            result.append(root.data)\n",
    "            self.InOrder(root.right,result)\n",
    "        return result"
   ]
  }
 ],
 "metadata": {
  "kernelspec": {
   "display_name": "Python 3",
   "language": "python",
   "name": "python3"
  },
  "language_info": {
   "codemirror_mode": {
    "name": "ipython",
    "version": 3
   },
   "file_extension": ".py",
   "mimetype": "text/x-python",
   "name": "python",
   "nbconvert_exporter": "python",
   "pygments_lexer": "ipython3",
   "version": "3.8.8"
  }
 },
 "nbformat": 4,
 "nbformat_minor": 5
}
