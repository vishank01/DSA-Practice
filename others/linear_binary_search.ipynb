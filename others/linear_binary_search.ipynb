{
 "cells": [
  {
   "cell_type": "code",
   "execution_count": 6,
   "id": "04e82084",
   "metadata": {},
   "outputs": [],
   "source": [
    "import numpy as np"
   ]
  },
  {
   "cell_type": "code",
   "execution_count": 18,
   "id": "ddd37297",
   "metadata": {},
   "outputs": [
    {
     "name": "stdout",
     "output_type": "stream",
     "text": [
      "[45, 48, 65, 68, 68, 10, 84, 22, 37, 88]\n"
     ]
    }
   ],
   "source": [
    "np.random.seed(0)\n",
    "lst=list(np.random.randint(1,100,10))\n",
    "print(lst)"
   ]
  },
  {
   "cell_type": "code",
   "execution_count": 54,
   "id": "840445aa",
   "metadata": {},
   "outputs": [],
   "source": [
    "def linearsearch(n):\n",
    "    for i in lst:\n",
    "        if i==n:\n",
    "            print(\"found the required number\")"
   ]
  },
  {
   "cell_type": "code",
   "execution_count": 55,
   "id": "9acbb73d",
   "metadata": {},
   "outputs": [
    {
     "name": "stdout",
     "output_type": "stream",
     "text": [
      "found the required number\n"
     ]
    }
   ],
   "source": [
    "linearsearch(10)"
   ]
  },
  {
   "cell_type": "code",
   "execution_count": 56,
   "id": "78316965",
   "metadata": {},
   "outputs": [],
   "source": [
    "def binarysearch(n):\n",
    "    low=0\n",
    "    high=len(lst)\n",
    "    while(low<=high):\n",
    "        mid=int((low+high)/2)\n",
    "        if (n==lst[mid]):\n",
    "            print(\"element found\")\n",
    "            break\n",
    "        if (n<lst[mid]):\n",
    "            high=mid-1\n",
    "            mid=(low+high)/2\n",
    "        else :\n",
    "            low=mid+1\n",
    "            mid=(low+high)/2\n",
    "        "
   ]
  },
  {
   "cell_type": "code",
   "execution_count": 57,
   "id": "c831d1bc",
   "metadata": {},
   "outputs": [
    {
     "name": "stdout",
     "output_type": "stream",
     "text": [
      "element found\n"
     ]
    }
   ],
   "source": [
    "binarysearch(10)"
   ]
  },
  {
   "cell_type": "code",
   "execution_count": null,
   "id": "b104fc99",
   "metadata": {},
   "outputs": [],
   "source": []
  },
  {
   "cell_type": "code",
   "execution_count": null,
   "id": "4b5ea801",
   "metadata": {},
   "outputs": [],
   "source": []
  }
 ],
 "metadata": {
  "kernelspec": {
   "display_name": "Python 3",
   "language": "python",
   "name": "python3"
  },
  "language_info": {
   "codemirror_mode": {
    "name": "ipython",
    "version": 3
   },
   "file_extension": ".py",
   "mimetype": "text/x-python",
   "name": "python",
   "nbconvert_exporter": "python",
   "pygments_lexer": "ipython3",
   "version": "3.8.8"
  }
 },
 "nbformat": 4,
 "nbformat_minor": 5
}
