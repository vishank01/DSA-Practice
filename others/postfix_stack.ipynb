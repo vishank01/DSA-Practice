{
 "cells": [
  {
   "cell_type": "code",
   "execution_count": 20,
   "id": "fb179635",
   "metadata": {},
   "outputs": [],
   "source": [
    "OPERATORS = set(['+', '-', '*', '/', '(', ')', '^'])\n",
    "PRIORITY = {'+':1, '-':1, '*':2, '/':2, '^':3}"
   ]
  },
  {
   "cell_type": "code",
   "execution_count": 23,
   "id": "c2b0cdaf",
   "metadata": {},
   "outputs": [],
   "source": [
    "def infix_to_postfix(expression): #input expression\n",
    "    stack = [] # initially stack empty\n",
    "    output = '' # initially output empty\n",
    "    for ch in expression:\n",
    "        if ch not in OPERATORS:  # if an operand then put it directly in postfix expression\n",
    "            output+= ch\n",
    "        elif ch=='(':  # else operators should be put in stack\n",
    "            stack.append('(')\n",
    "        elif ch==')':\n",
    "            while stack and stack[-1]!= '(':\n",
    "                output+=stack.pop()\n",
    "            stack.pop()\n",
    "        else:\n",
    "            # lesser priority can't be on top on higher or equal priority    \n",
    "             # so pop and put in output   \n",
    "            while stack and stack[-1]!='(' and PRIORITY[ch]<=PRIORITY[stack[-1]]:\n",
    "                output+=stack.pop()\n",
    "            stack.append(ch)\n",
    "    while stack:\n",
    "        output+=stack.pop()\n",
    "    return output"
   ]
  },
  {
   "cell_type": "code",
   "execution_count": 171,
   "id": "2f146a9f",
   "metadata": {},
   "outputs": [
    {
     "name": "stdout",
     "output_type": "stream",
     "text": [
      "31.0\n",
      "infix expression:  2+3*5+(3/2*4-1)+9\n",
      "postfix expression:  235*+32/4*1-+9+\n"
     ]
    }
   ],
   "source": [
    "expression = '2+3*5+(3/2*4-1)+9'\n",
    "print(eval(expression))\n",
    "print('infix expression: ',expression)\n",
    "print('postfix expression: ',infix_to_postfix(expression))\n",
    "output=infix_to_postfix(expression)"
   ]
  },
  {
   "cell_type": "code",
   "execution_count": 79,
   "id": "975f6f15",
   "metadata": {},
   "outputs": [],
   "source": [
    "#output='100 200 + 2 / 5 * 7 +'"
   ]
  },
  {
   "cell_type": "code",
   "execution_count": 78,
   "id": "64e47de1",
   "metadata": {},
   "outputs": [
    {
     "name": "stdout",
     "output_type": "stream",
     "text": [
      "['31.0']\n"
     ]
    }
   ],
   "source": [
    "a=[]\n",
    "if \" \" in output:\n",
    "    output=output.split(\" \")\n",
    "for i in output:\n",
    "    if i.isdigit():\n",
    "        a.append(i)\n",
    "    else:\n",
    "        x=a.pop()\n",
    "        y=a.pop()\n",
    "        res=str(eval(f'{y}{i}{x}'))\n",
    "        a.append(res)\n",
    "print(a)"
   ]
  }
 ],
 "metadata": {
  "kernelspec": {
   "display_name": "Python 3",
   "language": "python",
   "name": "python3"
  },
  "language_info": {
   "codemirror_mode": {
    "name": "ipython",
    "version": 3
   },
   "file_extension": ".py",
   "mimetype": "text/x-python",
   "name": "python",
   "nbconvert_exporter": "python",
   "pygments_lexer": "ipython3",
   "version": "3.8.8"
  }
 },
 "nbformat": 4,
 "nbformat_minor": 5
}
