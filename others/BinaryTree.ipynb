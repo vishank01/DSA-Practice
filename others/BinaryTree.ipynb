{
 "cells": [
  {
   "cell_type": "code",
   "execution_count": 8,
   "id": "3d26f36d",
   "metadata": {},
   "outputs": [],
   "source": [
    "class Node:\n",
    "    def __init__(self,val):\n",
    "        self.left=None\n",
    "        self.right=None\n",
    "        self.val=val"
   ]
  },
  {
   "cell_type": "code",
   "execution_count": 11,
   "id": "f7788044",
   "metadata": {},
   "outputs": [],
   "source": [
    "root=Node(1)"
   ]
  },
  {
   "cell_type": "code",
   "execution_count": 12,
   "id": "49b18dcb",
   "metadata": {},
   "outputs": [],
   "source": [
    "root.left=Node(2)\n",
    "root.right=Node(3)"
   ]
  },
  {
   "cell_type": "code",
   "execution_count": null,
   "id": "b879933c",
   "metadata": {},
   "outputs": [],
   "source": []
  }
 ],
 "metadata": {
  "kernelspec": {
   "display_name": "Python 3",
   "language": "python",
   "name": "python3"
  },
  "language_info": {
   "codemirror_mode": {
    "name": "ipython",
    "version": 3
   },
   "file_extension": ".py",
   "mimetype": "text/x-python",
   "name": "python",
   "nbconvert_exporter": "python",
   "pygments_lexer": "ipython3",
   "version": "3.8.8"
  }
 },
 "nbformat": 4,
 "nbformat_minor": 5
}
